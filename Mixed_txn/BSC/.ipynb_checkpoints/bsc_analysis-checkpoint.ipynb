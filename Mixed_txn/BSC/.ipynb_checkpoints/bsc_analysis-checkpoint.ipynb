{
 "cells": [
  {
   "cell_type": "code",
   "execution_count": 1,
   "id": "framed-copying",
   "metadata": {},
   "outputs": [],
   "source": [
    "################################\n",
    "# Libraries\n",
    "################################\n",
    "import pandas as pd\n",
    "import seaborn as sns; sns.set_theme()"
   ]
  },
  {
   "cell_type": "code",
   "execution_count": 2,
   "id": "suspected-residence",
   "metadata": {},
   "outputs": [],
   "source": [
    "tier1 = pd.read_csv('tier1_clean_data')\n",
    "tier2 = pd.read_csv('tier2_clean_data')\n",
    "tier3 = pd.read_csv('tier3_data')"
   ]
  },
  {
   "cell_type": "code",
   "execution_count": 3,
   "id": "2f4a515b",
   "metadata": {},
   "outputs": [
    {
     "data": {
      "text/html": [
       "<div>\n",
       "<style scoped>\n",
       "    .dataframe tbody tr th:only-of-type {\n",
       "        vertical-align: middle;\n",
       "    }\n",
       "\n",
       "    .dataframe tbody tr th {\n",
       "        vertical-align: top;\n",
       "    }\n",
       "\n",
       "    .dataframe thead th {\n",
       "        text-align: right;\n",
       "    }\n",
       "</style>\n",
       "<table border=\"1\" class=\"dataframe\">\n",
       "  <thead>\n",
       "    <tr style=\"text-align: right;\">\n",
       "      <th></th>\n",
       "      <th>balance</th>\n",
       "      <th>num_txns</th>\n",
       "      <th>avg_txn_percent</th>\n",
       "      <th>total_fees</th>\n",
       "    </tr>\n",
       "  </thead>\n",
       "  <tbody>\n",
       "    <tr>\n",
       "      <th>count</th>\n",
       "      <td>3.599900e+04</td>\n",
       "      <td>35999.000000</td>\n",
       "      <td>3.599900e+04</td>\n",
       "      <td>3.599900e+04</td>\n",
       "    </tr>\n",
       "    <tr>\n",
       "      <th>mean</th>\n",
       "      <td>1.291668e+17</td>\n",
       "      <td>872.425123</td>\n",
       "      <td>2.692259e-08</td>\n",
       "      <td>5.944742e+08</td>\n",
       "    </tr>\n",
       "    <tr>\n",
       "      <th>std</th>\n",
       "      <td>2.779606e+17</td>\n",
       "      <td>2176.212389</td>\n",
       "      <td>3.630201e-07</td>\n",
       "      <td>2.805975e+09</td>\n",
       "    </tr>\n",
       "    <tr>\n",
       "      <th>min</th>\n",
       "      <td>0.000000e+00</td>\n",
       "      <td>1.000000</td>\n",
       "      <td>0.000000e+00</td>\n",
       "      <td>2.100000e+04</td>\n",
       "    </tr>\n",
       "    <tr>\n",
       "      <th>25%</th>\n",
       "      <td>7.387579e+15</td>\n",
       "      <td>30.000000</td>\n",
       "      <td>1.521911e-13</td>\n",
       "      <td>9.571662e+06</td>\n",
       "    </tr>\n",
       "    <tr>\n",
       "      <th>50%</th>\n",
       "      <td>2.426232e+16</td>\n",
       "      <td>115.000000</td>\n",
       "      <td>1.481600e-12</td>\n",
       "      <td>3.808500e+07</td>\n",
       "    </tr>\n",
       "    <tr>\n",
       "      <th>75%</th>\n",
       "      <td>9.834344e+16</td>\n",
       "      <td>455.000000</td>\n",
       "      <td>9.296767e-12</td>\n",
       "      <td>1.521746e+08</td>\n",
       "    </tr>\n",
       "    <tr>\n",
       "      <th>max</th>\n",
       "      <td>1.999895e+18</td>\n",
       "      <td>10000.000000</td>\n",
       "      <td>9.980408e-06</td>\n",
       "      <td>1.468450e+11</td>\n",
       "    </tr>\n",
       "  </tbody>\n",
       "</table>\n",
       "</div>"
      ],
      "text/plain": [
       "            balance      num_txns  avg_txn_percent    total_fees\n",
       "count  3.599900e+04  35999.000000     3.599900e+04  3.599900e+04\n",
       "mean   1.291668e+17    872.425123     2.692259e-08  5.944742e+08\n",
       "std    2.779606e+17   2176.212389     3.630201e-07  2.805975e+09\n",
       "min    0.000000e+00      1.000000     0.000000e+00  2.100000e+04\n",
       "25%    7.387579e+15     30.000000     1.521911e-13  9.571662e+06\n",
       "50%    2.426232e+16    115.000000     1.481600e-12  3.808500e+07\n",
       "75%    9.834344e+16    455.000000     9.296767e-12  1.521746e+08\n",
       "max    1.999895e+18  10000.000000     9.980408e-06  1.468450e+11"
      ]
     },
     "execution_count": 3,
     "metadata": {},
     "output_type": "execute_result"
    }
   ],
   "source": [
    "tier1.describe()"
   ]
  },
  {
   "cell_type": "code",
   "execution_count": 4,
   "id": "6d1fdba2",
   "metadata": {},
   "outputs": [
    {
     "data": {
      "text/html": [
       "<div>\n",
       "<style scoped>\n",
       "    .dataframe tbody tr th:only-of-type {\n",
       "        vertical-align: middle;\n",
       "    }\n",
       "\n",
       "    .dataframe tbody tr th {\n",
       "        vertical-align: top;\n",
       "    }\n",
       "\n",
       "    .dataframe thead th {\n",
       "        text-align: right;\n",
       "    }\n",
       "</style>\n",
       "<table border=\"1\" class=\"dataframe\">\n",
       "  <thead>\n",
       "    <tr style=\"text-align: right;\">\n",
       "      <th></th>\n",
       "      <th>balance</th>\n",
       "      <th>num_txns</th>\n",
       "      <th>avg_txn_percent</th>\n",
       "      <th>total_fees</th>\n",
       "    </tr>\n",
       "  </thead>\n",
       "  <tbody>\n",
       "    <tr>\n",
       "      <th>count</th>\n",
       "      <td>1.774000e+03</td>\n",
       "      <td>1774.000000</td>\n",
       "      <td>1.774000e+03</td>\n",
       "      <td>1.774000e+03</td>\n",
       "    </tr>\n",
       "    <tr>\n",
       "      <th>mean</th>\n",
       "      <td>2.645390e+19</td>\n",
       "      <td>3525.187711</td>\n",
       "      <td>3.588625e-08</td>\n",
       "      <td>3.469079e+09</td>\n",
       "    </tr>\n",
       "    <tr>\n",
       "      <th>std</th>\n",
       "      <td>1.162550e+20</td>\n",
       "      <td>4098.171306</td>\n",
       "      <td>4.483205e-07</td>\n",
       "      <td>1.236096e+10</td>\n",
       "    </tr>\n",
       "    <tr>\n",
       "      <th>min</th>\n",
       "      <td>2.000000e+18</td>\n",
       "      <td>1.000000</td>\n",
       "      <td>0.000000e+00</td>\n",
       "      <td>2.100000e+04</td>\n",
       "    </tr>\n",
       "    <tr>\n",
       "      <th>25%</th>\n",
       "      <td>2.979368e+18</td>\n",
       "      <td>204.000000</td>\n",
       "      <td>5.504152e-15</td>\n",
       "      <td>6.960930e+07</td>\n",
       "    </tr>\n",
       "    <tr>\n",
       "      <th>50%</th>\n",
       "      <td>4.704659e+18</td>\n",
       "      <td>1183.500000</td>\n",
       "      <td>4.425310e-13</td>\n",
       "      <td>3.922075e+08</td>\n",
       "    </tr>\n",
       "    <tr>\n",
       "      <th>75%</th>\n",
       "      <td>1.205356e+19</td>\n",
       "      <td>9275.500000</td>\n",
       "      <td>5.001778e-12</td>\n",
       "      <td>2.648529e+09</td>\n",
       "    </tr>\n",
       "    <tr>\n",
       "      <th>max</th>\n",
       "      <td>1.647618e+21</td>\n",
       "      <td>10000.000000</td>\n",
       "      <td>9.866149e-06</td>\n",
       "      <td>2.999700e+11</td>\n",
       "    </tr>\n",
       "  </tbody>\n",
       "</table>\n",
       "</div>"
      ],
      "text/plain": [
       "            balance      num_txns  avg_txn_percent    total_fees\n",
       "count  1.774000e+03   1774.000000     1.774000e+03  1.774000e+03\n",
       "mean   2.645390e+19   3525.187711     3.588625e-08  3.469079e+09\n",
       "std    1.162550e+20   4098.171306     4.483205e-07  1.236096e+10\n",
       "min    2.000000e+18      1.000000     0.000000e+00  2.100000e+04\n",
       "25%    2.979368e+18    204.000000     5.504152e-15  6.960930e+07\n",
       "50%    4.704659e+18   1183.500000     4.425310e-13  3.922075e+08\n",
       "75%    1.205356e+19   9275.500000     5.001778e-12  2.648529e+09\n",
       "max    1.647618e+21  10000.000000     9.866149e-06  2.999700e+11"
      ]
     },
     "execution_count": 4,
     "metadata": {},
     "output_type": "execute_result"
    }
   ],
   "source": [
    "tier2.describe()"
   ]
  },
  {
   "cell_type": "code",
   "execution_count": 5,
   "id": "02852b45",
   "metadata": {
    "scrolled": true
   },
   "outputs": [
    {
     "data": {
      "text/html": [
       "<div>\n",
       "<style scoped>\n",
       "    .dataframe tbody tr th:only-of-type {\n",
       "        vertical-align: middle;\n",
       "    }\n",
       "\n",
       "    .dataframe tbody tr th {\n",
       "        vertical-align: top;\n",
       "    }\n",
       "\n",
       "    .dataframe thead th {\n",
       "        text-align: right;\n",
       "    }\n",
       "</style>\n",
       "<table border=\"1\" class=\"dataframe\">\n",
       "  <thead>\n",
       "    <tr style=\"text-align: right;\">\n",
       "      <th></th>\n",
       "      <th>balance</th>\n",
       "      <th>num_txns</th>\n",
       "      <th>avg_txn_percent</th>\n",
       "      <th>total_fees</th>\n",
       "    </tr>\n",
       "  </thead>\n",
       "  <tbody>\n",
       "    <tr>\n",
       "      <th>count</th>\n",
       "      <td>2.300000e+01</td>\n",
       "      <td>23.000000</td>\n",
       "      <td>2.300000e+01</td>\n",
       "      <td>2.300000e+01</td>\n",
       "    </tr>\n",
       "    <tr>\n",
       "      <th>mean</th>\n",
       "      <td>3.237528e+23</td>\n",
       "      <td>8252.043478</td>\n",
       "      <td>1.195292e-12</td>\n",
       "      <td>1.195039e+09</td>\n",
       "    </tr>\n",
       "    <tr>\n",
       "      <th>std</th>\n",
       "      <td>7.508566e+23</td>\n",
       "      <td>2386.106423</td>\n",
       "      <td>2.283481e-12</td>\n",
       "      <td>1.496491e+09</td>\n",
       "    </tr>\n",
       "    <tr>\n",
       "      <th>min</th>\n",
       "      <td>2.154209e+21</td>\n",
       "      <td>2125.000000</td>\n",
       "      <td>0.000000e+00</td>\n",
       "      <td>1.367310e+08</td>\n",
       "    </tr>\n",
       "    <tr>\n",
       "      <th>25%</th>\n",
       "      <td>5.139541e+21</td>\n",
       "      <td>7213.500000</td>\n",
       "      <td>4.868147e-14</td>\n",
       "      <td>2.789447e+08</td>\n",
       "    </tr>\n",
       "    <tr>\n",
       "      <th>50%</th>\n",
       "      <td>1.393264e+22</td>\n",
       "      <td>9719.000000</td>\n",
       "      <td>2.161485e-13</td>\n",
       "      <td>6.180300e+08</td>\n",
       "    </tr>\n",
       "    <tr>\n",
       "      <th>75%</th>\n",
       "      <td>6.919911e+22</td>\n",
       "      <td>9996.000000</td>\n",
       "      <td>9.919819e-13</td>\n",
       "      <td>1.654337e+09</td>\n",
       "    </tr>\n",
       "    <tr>\n",
       "      <th>max</th>\n",
       "      <td>2.770893e+24</td>\n",
       "      <td>9999.000000</td>\n",
       "      <td>9.453705e-12</td>\n",
       "      <td>6.886000e+09</td>\n",
       "    </tr>\n",
       "  </tbody>\n",
       "</table>\n",
       "</div>"
      ],
      "text/plain": [
       "            balance     num_txns  avg_txn_percent    total_fees\n",
       "count  2.300000e+01    23.000000     2.300000e+01  2.300000e+01\n",
       "mean   3.237528e+23  8252.043478     1.195292e-12  1.195039e+09\n",
       "std    7.508566e+23  2386.106423     2.283481e-12  1.496491e+09\n",
       "min    2.154209e+21  2125.000000     0.000000e+00  1.367310e+08\n",
       "25%    5.139541e+21  7213.500000     4.868147e-14  2.789447e+08\n",
       "50%    1.393264e+22  9719.000000     2.161485e-13  6.180300e+08\n",
       "75%    6.919911e+22  9996.000000     9.919819e-13  1.654337e+09\n",
       "max    2.770893e+24  9999.000000     9.453705e-12  6.886000e+09"
      ]
     },
     "execution_count": 5,
     "metadata": {},
     "output_type": "execute_result"
    }
   ],
   "source": [
    "tier3.describe()"
   ]
  },
  {
   "cell_type": "code",
   "execution_count": 6,
   "id": "5f0be05a",
   "metadata": {},
   "outputs": [
    {
     "data": {
      "text/html": [
       "<div>\n",
       "<style scoped>\n",
       "    .dataframe tbody tr th:only-of-type {\n",
       "        vertical-align: middle;\n",
       "    }\n",
       "\n",
       "    .dataframe tbody tr th {\n",
       "        vertical-align: top;\n",
       "    }\n",
       "\n",
       "    .dataframe thead th {\n",
       "        text-align: right;\n",
       "    }\n",
       "</style>\n",
       "<table border=\"1\" class=\"dataframe\">\n",
       "  <thead>\n",
       "    <tr style=\"text-align: right;\">\n",
       "      <th></th>\n",
       "      <th>balance</th>\n",
       "      <th>num_txns</th>\n",
       "      <th>avg_txn_percent</th>\n",
       "      <th>total_fees</th>\n",
       "    </tr>\n",
       "  </thead>\n",
       "  <tbody>\n",
       "    <tr>\n",
       "      <th>balance</th>\n",
       "      <td>1.000000</td>\n",
       "      <td>0.280957</td>\n",
       "      <td>0.019366</td>\n",
       "      <td>0.201477</td>\n",
       "    </tr>\n",
       "    <tr>\n",
       "      <th>num_txns</th>\n",
       "      <td>0.280957</td>\n",
       "      <td>1.000000</td>\n",
       "      <td>0.001478</td>\n",
       "      <td>0.646181</td>\n",
       "    </tr>\n",
       "    <tr>\n",
       "      <th>avg_txn_percent</th>\n",
       "      <td>0.019366</td>\n",
       "      <td>0.001478</td>\n",
       "      <td>1.000000</td>\n",
       "      <td>-0.004678</td>\n",
       "    </tr>\n",
       "    <tr>\n",
       "      <th>total_fees</th>\n",
       "      <td>0.201477</td>\n",
       "      <td>0.646181</td>\n",
       "      <td>-0.004678</td>\n",
       "      <td>1.000000</td>\n",
       "    </tr>\n",
       "  </tbody>\n",
       "</table>\n",
       "</div>"
      ],
      "text/plain": [
       "                  balance  num_txns  avg_txn_percent  total_fees\n",
       "balance          1.000000  0.280957         0.019366    0.201477\n",
       "num_txns         0.280957  1.000000         0.001478    0.646181\n",
       "avg_txn_percent  0.019366  0.001478         1.000000   -0.004678\n",
       "total_fees       0.201477  0.646181        -0.004678    1.000000"
      ]
     },
     "execution_count": 6,
     "metadata": {},
     "output_type": "execute_result"
    }
   ],
   "source": [
    "tier1_corr = tier1[['balance','num_txns','avg_txn_percent','total_fees']].corr(method='pearson')\n",
    "tier1_corr"
   ]
  },
  {
   "cell_type": "code",
   "execution_count": 7,
   "id": "928c8cf1",
   "metadata": {},
   "outputs": [
    {
     "data": {
      "text/html": [
       "<div>\n",
       "<style scoped>\n",
       "    .dataframe tbody tr th:only-of-type {\n",
       "        vertical-align: middle;\n",
       "    }\n",
       "\n",
       "    .dataframe tbody tr th {\n",
       "        vertical-align: top;\n",
       "    }\n",
       "\n",
       "    .dataframe thead th {\n",
       "        text-align: right;\n",
       "    }\n",
       "</style>\n",
       "<table border=\"1\" class=\"dataframe\">\n",
       "  <thead>\n",
       "    <tr style=\"text-align: right;\">\n",
       "      <th></th>\n",
       "      <th>balance</th>\n",
       "      <th>num_txns</th>\n",
       "      <th>avg_txn_percent</th>\n",
       "      <th>total_fees</th>\n",
       "    </tr>\n",
       "  </thead>\n",
       "  <tbody>\n",
       "    <tr>\n",
       "      <th>balance</th>\n",
       "      <td>1.000000</td>\n",
       "      <td>0.085728</td>\n",
       "      <td>0.076927</td>\n",
       "      <td>0.007343</td>\n",
       "    </tr>\n",
       "    <tr>\n",
       "      <th>num_txns</th>\n",
       "      <td>0.085728</td>\n",
       "      <td>1.000000</td>\n",
       "      <td>-0.024807</td>\n",
       "      <td>0.360515</td>\n",
       "    </tr>\n",
       "    <tr>\n",
       "      <th>avg_txn_percent</th>\n",
       "      <td>0.076927</td>\n",
       "      <td>-0.024807</td>\n",
       "      <td>1.000000</td>\n",
       "      <td>-0.016802</td>\n",
       "    </tr>\n",
       "    <tr>\n",
       "      <th>total_fees</th>\n",
       "      <td>0.007343</td>\n",
       "      <td>0.360515</td>\n",
       "      <td>-0.016802</td>\n",
       "      <td>1.000000</td>\n",
       "    </tr>\n",
       "  </tbody>\n",
       "</table>\n",
       "</div>"
      ],
      "text/plain": [
       "                  balance  num_txns  avg_txn_percent  total_fees\n",
       "balance          1.000000  0.085728         0.076927    0.007343\n",
       "num_txns         0.085728  1.000000        -0.024807    0.360515\n",
       "avg_txn_percent  0.076927 -0.024807         1.000000   -0.016802\n",
       "total_fees       0.007343  0.360515        -0.016802    1.000000"
      ]
     },
     "execution_count": 7,
     "metadata": {},
     "output_type": "execute_result"
    }
   ],
   "source": [
    "tier2_corr = tier2[['balance','num_txns','avg_txn_percent','total_fees']].corr(method='pearson')\n",
    "tier2_corr"
   ]
  },
  {
   "cell_type": "code",
   "execution_count": 8,
   "id": "1ca2eec2",
   "metadata": {},
   "outputs": [
    {
     "data": {
      "text/html": [
       "<div>\n",
       "<style scoped>\n",
       "    .dataframe tbody tr th:only-of-type {\n",
       "        vertical-align: middle;\n",
       "    }\n",
       "\n",
       "    .dataframe tbody tr th {\n",
       "        vertical-align: top;\n",
       "    }\n",
       "\n",
       "    .dataframe thead th {\n",
       "        text-align: right;\n",
       "    }\n",
       "</style>\n",
       "<table border=\"1\" class=\"dataframe\">\n",
       "  <thead>\n",
       "    <tr style=\"text-align: right;\">\n",
       "      <th></th>\n",
       "      <th>balance</th>\n",
       "      <th>num_txns</th>\n",
       "      <th>avg_txn_percent</th>\n",
       "      <th>total_fees</th>\n",
       "    </tr>\n",
       "  </thead>\n",
       "  <tbody>\n",
       "    <tr>\n",
       "      <th>balance</th>\n",
       "      <td>1.000000</td>\n",
       "      <td>0.313300</td>\n",
       "      <td>-0.160665</td>\n",
       "      <td>-0.193967</td>\n",
       "    </tr>\n",
       "    <tr>\n",
       "      <th>num_txns</th>\n",
       "      <td>0.313300</td>\n",
       "      <td>1.000000</td>\n",
       "      <td>-0.030679</td>\n",
       "      <td>0.113115</td>\n",
       "    </tr>\n",
       "    <tr>\n",
       "      <th>avg_txn_percent</th>\n",
       "      <td>-0.160665</td>\n",
       "      <td>-0.030679</td>\n",
       "      <td>1.000000</td>\n",
       "      <td>0.692738</td>\n",
       "    </tr>\n",
       "    <tr>\n",
       "      <th>total_fees</th>\n",
       "      <td>-0.193967</td>\n",
       "      <td>0.113115</td>\n",
       "      <td>0.692738</td>\n",
       "      <td>1.000000</td>\n",
       "    </tr>\n",
       "  </tbody>\n",
       "</table>\n",
       "</div>"
      ],
      "text/plain": [
       "                  balance  num_txns  avg_txn_percent  total_fees\n",
       "balance          1.000000  0.313300        -0.160665   -0.193967\n",
       "num_txns         0.313300  1.000000        -0.030679    0.113115\n",
       "avg_txn_percent -0.160665 -0.030679         1.000000    0.692738\n",
       "total_fees      -0.193967  0.113115         0.692738    1.000000"
      ]
     },
     "execution_count": 8,
     "metadata": {},
     "output_type": "execute_result"
    }
   ],
   "source": [
    "tier3_corr = tier3[['balance','num_txns','avg_txn_percent','total_fees']].corr(method='pearson')\n",
    "tier3_corr"
   ]
  },
  {
   "cell_type": "code",
   "execution_count": 9,
   "id": "0d5132a0",
   "metadata": {},
   "outputs": [
    {
     "data": {
      "image/png": "[encoded data removed]",
      "text/plain": [
       "<Figure size 432x288 with 2 Axes>"
      ]
     },
     "metadata": {},
     "output_type": "display_data"
    }
   ],
   "source": [
    "# Correlation heatmap for tier1 accounts\n",
    "ax = sns.heatmap(tier1_corr)"
   ]
  },
  {
   "cell_type": "code",
   "execution_count": 10,
   "id": "6e8cb8bc",
   "metadata": {},
   "outputs": [
    {
     "data": {
      "image/png": "[encoded data removed]",
      "text/plain": [
       "<Figure size 432x288 with 2 Axes>"
      ]
     },
     "metadata": {},
     "output_type": "display_data"
    }
   ],
   "source": [
    "# Correlation heatmap for tier2 accounts\n",
    "ax = sns.heatmap(tier2_corr)"
   ]
  },
  {
   "cell_type": "code",
   "execution_count": 11,
   "id": "f3c264ba",
   "metadata": {},
   "outputs": [
    {
     "data": {
      "image/png": "[encoded data removed]",
      "text/plain": [
       "<Figure size 432x288 with 2 Axes>"
      ]
     },
     "metadata": {},
     "output_type": "display_data"
    }
   ],
   "source": [
    "# Correlation heatmap for tier3 accounts\n",
    "ax = sns.heatmap(tier3_corr)"
   ]
  }
 ],
 "metadata": {
  "interpreter": {
   "hash": "aee8b7b246df8f9039afb4144a1f6fd8d2ca17a180786b69acc140d282b71a49"
  },
  "kernelspec": {
   "display_name": "Python 3 (ipykernel)",
   "language": "python",
   "name": "python3"
  },
  "language_info": {
   "codemirror_mode": {
    "name": "ipython",
    "version": 3
   },
   "file_extension": ".py",
   "mimetype": "text/x-python",
   "name": "python",
   "nbconvert_exporter": "python",
   "pygments_lexer": "ipython3",
   "version": "3.8.8"
  }
 },
 "nbformat": 4,
 "nbformat_minor": 5
}
